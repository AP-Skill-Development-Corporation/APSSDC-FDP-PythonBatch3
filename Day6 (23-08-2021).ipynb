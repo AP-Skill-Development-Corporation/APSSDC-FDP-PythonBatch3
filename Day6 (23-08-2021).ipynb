{
 "cells": [
  {
   "cell_type": "code",
   "execution_count": 5,
   "metadata": {},
   "outputs": [
    {
     "name": "stdout",
     "output_type": "stream",
     "text": [
      "5678\n",
      "No of digits: 4\n"
     ]
    }
   ],
   "source": [
    "# While loop:\n",
    "# print number of digits\n",
    "n=int(input())  #264\n",
    "c=0\n",
    "while(n>0):\n",
    "    n=n//10   #264//10=26  #26//10=2   #2//10=0\n",
    "    c+=1     #c=1          #2          #3\n",
    "print(\"No of digits:\",c)"
   ]
  },
  {
   "cell_type": "code",
   "execution_count": 1,
   "metadata": {},
   "outputs": [
    {
     "data": {
      "text/plain": [
       "26"
      ]
     },
     "execution_count": 1,
     "metadata": {},
     "output_type": "execute_result"
    }
   ],
   "source": [
    "n=264//10"
   ]
  },
  {
   "cell_type": "code",
   "execution_count": 2,
   "metadata": {},
   "outputs": [
    {
     "data": {
      "text/plain": [
       "2"
      ]
     },
     "execution_count": 2,
     "metadata": {},
     "output_type": "execute_result"
    }
   ],
   "source": [
    "n=26//10"
   ]
  },
  {
   "cell_type": "code",
   "execution_count": 3,
   "metadata": {},
   "outputs": [
    {
     "data": {
      "text/plain": [
       "0"
      ]
     },
     "execution_count": 3,
     "metadata": {},
     "output_type": "execute_result"
    }
   ],
   "source": [
    "n=2//10"
   ]
  },
  {
   "cell_type": "code",
   "execution_count": 15,
   "metadata": {},
   "outputs": [
    {
     "name": "stdout",
     "output_type": "stream",
     "text": [
      "8953467\n",
      "reverse:  7643598\n"
     ]
    }
   ],
   "source": [
    "# reverse of a number\n",
    "n=int(input())\n",
    "rev=0\n",
    "while(n>0):\n",
    "    res=n%10     #587%10=7       #58%10=8      #5%10=5\n",
    "    rev=rev*10+res  #0*10+7=7    #7*10+8=78   #78*10+5=785\n",
    "    n=n//10    #587//10=58   #58//10=5 #5//10=0 \n",
    "print(\"reverse: \",rev)"
   ]
  },
  {
   "cell_type": "code",
   "execution_count": 2,
   "metadata": {},
   "outputs": [
    {
     "name": "stdout",
     "output_type": "stream",
     "text": [
      "234\n",
      "432\n"
     ]
    }
   ],
   "source": [
    "#slicing\n",
    "n=input()\n",
    "a=n[::-1]\n",
    "print(int(a))"
   ]
  },
  {
   "cell_type": "code",
   "execution_count": 4,
   "metadata": {},
   "outputs": [
    {
     "name": "stdout",
     "output_type": "stream",
     "text": [
      "567\n",
      "765"
     ]
    }
   ],
   "source": [
    "n=input()\n",
    "for i in reversed(n):\n",
    "    print(i,end=\"\")"
   ]
  },
  {
   "cell_type": "code",
   "execution_count": 13,
   "metadata": {},
   "outputs": [
    {
     "name": "stdout",
     "output_type": "stream",
     "text": [
      "245\n",
      "not palindrome\n"
     ]
    }
   ],
   "source": [
    "#palindrome or not\n",
    "n=int(input())\n",
    "rev=0\n",
    "n1=n\n",
    "while(n>0):\n",
    "    res=n%10     #587%10=7       #58%10=8      #5%10=5\n",
    "    rev=rev*10+res  #0*10+7=7    #7*10+8=78   #78*10+5=785\n",
    "    n=n//10    #587//10=58   #58//10=5 #5//10=0 \n",
    "if n1==rev:\n",
    "    print(\"palindrome\")\n",
    "else:\n",
    "    print(\"not palindrome\")"
   ]
  },
  {
   "cell_type": "code",
   "execution_count": 27,
   "metadata": {},
   "outputs": [
    {
     "name": "stdout",
     "output_type": "stream",
     "text": [
      "151\n",
      "palindrome\n"
     ]
    }
   ],
   "source": [
    "#slicing\n",
    "n=input()\n",
    "if n==n[::-1]:\n",
    "    print(\"palindrome\")\n",
    "else:\n",
    "    print(\"not a palindrome\")"
   ]
  },
  {
   "cell_type": "code",
   "execution_count": null,
   "metadata": {},
   "outputs": [],
   "source": []
  },
  {
   "cell_type": "code",
   "execution_count": null,
   "metadata": {},
   "outputs": [],
   "source": [
    "# Jump statements(keywords in python):\n",
    "- jump statements in python are used to alter flow of loop like you want to skip a part of a loop or terminate the loop\n",
    "# 3 types:\n",
    "1)break\n",
    "2)continue\n",
    "3)pass"
   ]
  },
  {
   "cell_type": "code",
   "execution_count": 28,
   "metadata": {},
   "outputs": [
    {
     "name": "stdout",
     "output_type": "stream",
     "text": [
      "['False', 'None', 'True', 'and', 'as', 'assert', 'async', 'await', 'break', 'class', 'continue', 'def', 'del', 'elif', 'else', 'except', 'finally', 'for', 'from', 'global', 'if', 'import', 'in', 'is', 'lambda', 'nonlocal', 'not', 'or', 'pass', 'raise', 'return', 'try', 'while', 'with', 'yield']\n"
     ]
    }
   ],
   "source": [
    "import keyword\n",
    "print(keyword.kwlist)"
   ]
  },
  {
   "cell_type": "code",
   "execution_count": null,
   "metadata": {},
   "outputs": [],
   "source": [
    "#break statement\n",
    "- terminate the loop"
   ]
  },
  {
   "cell_type": "code",
   "execution_count": 31,
   "metadata": {},
   "outputs": [
    {
     "name": "stdout",
     "output_type": "stream",
     "text": [
      "current letter :  p\n",
      "current letter :  y\n",
      "current letter :  t\n"
     ]
    }
   ],
   "source": [
    "for letter in 'python':\n",
    "    if letter==\"h\":\n",
    "        break\n",
    "    print(\"current letter : \",letter)"
   ]
  },
  {
   "cell_type": "code",
   "execution_count": 36,
   "metadata": {},
   "outputs": [
    {
     "name": "stdout",
     "output_type": "stream",
     "text": [
      "current value : 10\n",
      "current value : 9\n",
      "current value : 8\n",
      "current value : 7\n",
      "current value : 6\n",
      "Good Bye!\n"
     ]
    }
   ],
   "source": [
    "var=10\n",
    "while var>0:  \n",
    "    print(\"current value :\",var)\n",
    "    var=var-1\n",
    "    if var==5:\n",
    "        break  \n",
    "print(\"Good Bye!\")"
   ]
  },
  {
   "cell_type": "code",
   "execution_count": null,
   "metadata": {},
   "outputs": [],
   "source": [
    "# continue statement\n",
    "skip part of a loop"
   ]
  },
  {
   "cell_type": "code",
   "execution_count": 37,
   "metadata": {},
   "outputs": [
    {
     "name": "stdout",
     "output_type": "stream",
     "text": [
      "current letter :  p\n",
      "current letter :  y\n",
      "current letter :  t\n",
      "current letter :  o\n",
      "current letter :  n\n"
     ]
    }
   ],
   "source": [
    "for letter in 'python':\n",
    "    if letter==\"h\":\n",
    "        continue\n",
    "    print(\"current letter : \",letter)"
   ]
  },
  {
   "cell_type": "code",
   "execution_count": 39,
   "metadata": {},
   "outputs": [
    {
     "name": "stdout",
     "output_type": "stream",
     "text": [
      "current value : 10\n",
      "current value : 9\n",
      "current value : 8\n",
      "current value : 7\n",
      "current value : 6\n",
      "current value : 4\n",
      "current value : 3\n",
      "current value : 2\n",
      "current value : 1\n",
      "current value : 0\n",
      "Good Bye!\n"
     ]
    }
   ],
   "source": [
    "var=11\n",
    "while var>0:  \n",
    "    var=var-1\n",
    "    if var==5:\n",
    "        continue\n",
    "    print(\"current value :\",var)\n",
    "print(\"Good Bye!\")"
   ]
  },
  {
   "cell_type": "code",
   "execution_count": null,
   "metadata": {},
   "outputs": [],
   "source": [
    "#pass statement\n",
    "the pass statement is a null operation;nothing happens,ignores\n",
    "- it is useful where your code will eventually go,but you do not want any command or code to execute"
   ]
  },
  {
   "cell_type": "code",
   "execution_count": 41,
   "metadata": {},
   "outputs": [
    {
     "name": "stdout",
     "output_type": "stream",
     "text": [
      "current letter:  p\n",
      "current letter:  y\n",
      "current letter:  t\n",
      "this is pass block\n",
      "current letter:  h\n",
      "current letter:  o\n",
      "current letter:  n\n",
      "Good Bye!\n"
     ]
    }
   ],
   "source": [
    "for letter in \"python\":\n",
    "    if letter==\"h\":\n",
    "        pass\n",
    "        print(\"this is pass block\")\n",
    "    print(\"current letter: \",letter)\n",
    "print(\"Good Bye!\")"
   ]
  },
  {
   "cell_type": "code",
   "execution_count": null,
   "metadata": {},
   "outputs": [],
   "source": []
  },
  {
   "cell_type": "code",
   "execution_count": null,
   "metadata": {},
   "outputs": [],
   "source": [
    "#  python Functions:\n",
    "- function is a block of code which only runs when it is called\n",
    "- function is a group of statements to perform a specific task\n",
    "- it avoids repetition and makes the code reusable\n",
    "- def keyword is used to create functions\n",
    "- function naming  follows the same rules of writing variables.\n",
    "- an optional return statement to return a value from a function\n",
    "#syn:\n",
    "def functionname(): #function definition\n",
    "    statements\n",
    "functionname()   #function call"
   ]
  },
  {
   "cell_type": "code",
   "execution_count": null,
   "metadata": {},
   "outputs": [],
   "source": [
    "# return  and print diff"
   ]
  },
  {
   "cell_type": "code",
   "execution_count": 44,
   "metadata": {},
   "outputs": [
    {
     "name": "stdout",
     "output_type": "stream",
     "text": [
      "Im from Print statement\n",
      "Iam using print\n"
     ]
    }
   ],
   "source": [
    "def Print():  #func def\n",
    "    print(\"Im from Print statement\")\n",
    "    print(\"Iam using print\")\n",
    "Print()  #fun call"
   ]
  },
  {
   "cell_type": "code",
   "execution_count": 46,
   "metadata": {},
   "outputs": [
    {
     "data": {
      "text/plain": [
       "'Im from Return statement'"
      ]
     },
     "execution_count": 46,
     "metadata": {},
     "output_type": "execute_result"
    }
   ],
   "source": [
    "def Return():  #func def\n",
    "    return(\"Im from Return statement\")\n",
    "    return(\"Iam using Return\")\n",
    "Return() #fun call"
   ]
  },
  {
   "cell_type": "code",
   "execution_count": null,
   "metadata": {},
   "outputs": [],
   "source": [
    "- return statemnt is used to exit the function and go back to the place from where it is called"
   ]
  },
  {
   "cell_type": "code",
   "execution_count": 48,
   "metadata": {},
   "outputs": [
    {
     "ename": "NameError",
     "evalue": "name 'my_fnction' is not defined",
     "output_type": "error",
     "traceback": [
      "\u001b[1;31m---------------------------------------------------------------------------\u001b[0m",
      "\u001b[1;31mNameError\u001b[0m                                 Traceback (most recent call last)",
      "\u001b[1;32m<ipython-input-48-aa1b0d23e482>\u001b[0m in \u001b[0;36m<module>\u001b[1;34m\u001b[0m\n\u001b[0;32m      1\u001b[0m \u001b[1;32mdef\u001b[0m \u001b[0mmy_function\u001b[0m\u001b[1;33m(\u001b[0m\u001b[1;33m)\u001b[0m\u001b[1;33m:\u001b[0m\u001b[1;33m\u001b[0m\u001b[1;33m\u001b[0m\u001b[0m\n\u001b[0;32m      2\u001b[0m     \u001b[0mprint\u001b[0m\u001b[1;33m(\u001b[0m\u001b[1;34m\"hello everyone\"\u001b[0m\u001b[1;33m)\u001b[0m\u001b[1;33m\u001b[0m\u001b[1;33m\u001b[0m\u001b[0m\n\u001b[1;32m----> 3\u001b[1;33m \u001b[0mmy_fnction\u001b[0m\u001b[1;33m(\u001b[0m\u001b[1;33m)\u001b[0m\u001b[1;33m\u001b[0m\u001b[1;33m\u001b[0m\u001b[0m\n\u001b[0m",
      "\u001b[1;31mNameError\u001b[0m: name 'my_fnction' is not defined"
     ]
    }
   ],
   "source": [
    "def my_function():\n",
    "    print(\"hello everyone\")\n",
    "my_fnction()"
   ]
  },
  {
   "cell_type": "code",
   "execution_count": 49,
   "metadata": {},
   "outputs": [
    {
     "name": "stdout",
     "output_type": "stream",
     "text": [
      "hello everyone\n"
     ]
    }
   ],
   "source": [
    "def my_function():\n",
    "    print(\"hello everyone\")\n",
    "my_function()"
   ]
  },
  {
   "cell_type": "code",
   "execution_count": 51,
   "metadata": {},
   "outputs": [
    {
     "name": "stdout",
     "output_type": "stream",
     "text": [
      "hello everyone\n"
     ]
    }
   ],
   "source": [
    "my_function()"
   ]
  },
  {
   "cell_type": "code",
   "execution_count": null,
   "metadata": {},
   "outputs": [],
   "source": []
  },
  {
   "cell_type": "code",
   "execution_count": null,
   "metadata": {},
   "outputs": [],
   "source": []
  },
  {
   "cell_type": "code",
   "execution_count": null,
   "metadata": {},
   "outputs": [],
   "source": []
  },
  {
   "cell_type": "code",
   "execution_count": null,
   "metadata": {},
   "outputs": [],
   "source": []
  },
  {
   "cell_type": "code",
   "execution_count": null,
   "metadata": {},
   "outputs": [],
   "source": []
  },
  {
   "cell_type": "code",
   "execution_count": null,
   "metadata": {},
   "outputs": [],
   "source": []
  },
  {
   "cell_type": "code",
   "execution_count": null,
   "metadata": {},
   "outputs": [],
   "source": []
  },
  {
   "cell_type": "code",
   "execution_count": null,
   "metadata": {},
   "outputs": [],
   "source": []
  },
  {
   "cell_type": "code",
   "execution_count": null,
   "metadata": {},
   "outputs": [],
   "source": []
  },
  {
   "cell_type": "code",
   "execution_count": null,
   "metadata": {},
   "outputs": [],
   "source": []
  },
  {
   "cell_type": "code",
   "execution_count": 52,
   "metadata": {},
   "outputs": [
    {
     "name": "stdout",
     "output_type": "stream",
     "text": [
      "hello everyone\n"
     ]
    }
   ],
   "source": [
    "my_function()"
   ]
  },
  {
   "cell_type": "code",
   "execution_count": 53,
   "metadata": {},
   "outputs": [
    {
     "name": "stdout",
     "output_type": "stream",
     "text": [
      "hello everyone\n"
     ]
    }
   ],
   "source": [
    "my_function()"
   ]
  },
  {
   "cell_type": "code",
   "execution_count": 54,
   "metadata": {},
   "outputs": [
    {
     "name": "stdout",
     "output_type": "stream",
     "text": [
      "hello everyone\n"
     ]
    }
   ],
   "source": [
    "my_function()"
   ]
  },
  {
   "cell_type": "code",
   "execution_count": null,
   "metadata": {},
   "outputs": [],
   "source": []
  }
 ],
 "metadata": {
  "kernelspec": {
   "display_name": "Python 3",
   "language": "python",
   "name": "python3"
  },
  "language_info": {
   "codemirror_mode": {
    "name": "ipython",
    "version": 3
   },
   "file_extension": ".py",
   "mimetype": "text/x-python",
   "name": "python",
   "nbconvert_exporter": "python",
   "pygments_lexer": "ipython3",
   "version": "3.7.3"
  }
 },
 "nbformat": 4,
 "nbformat_minor": 2
}
