{
 "cells": [
  {
   "cell_type": "markdown",
   "metadata": {},
   "source": [
    "# Loops\n"
   ]
  },
  {
   "cell_type": "code",
   "execution_count": null,
   "metadata": {},
   "outputs": [],
   "source": [
    "Loop: A loop statement allows to execute a statement or \n",
    "    group of statements multiple times"
   ]
  },
  {
   "cell_type": "code",
   "execution_count": null,
   "metadata": {},
   "outputs": [],
   "source": [
    "1.for loop\n",
    "2.while loop"
   ]
  },
  {
   "cell_type": "code",
   "execution_count": null,
   "metadata": {},
   "outputs": [],
   "source": [
    "Advantages of Loops:\n",
    "    1.It provides code re-usability\n",
    "    2.we do not need to write the same code again and again"
   ]
  },
  {
   "cell_type": "code",
   "execution_count": 1,
   "metadata": {},
   "outputs": [
    {
     "name": "stdout",
     "output_type": "stream",
     "text": [
      "vanitha\n",
      "vanitha\n",
      "vanitha\n",
      "vanitha\n",
      "vanitha\n",
      "vanitha\n",
      "vanitha\n",
      "vanitha\n",
      "vanitha\n",
      "vanitha\n"
     ]
    }
   ],
   "source": [
    "# print your name 10 times\n",
    "print(\"vanitha\")\n",
    "print(\"vanitha\")\n",
    "print(\"vanitha\")\n",
    "print(\"vanitha\")\n",
    "print(\"vanitha\")\n",
    "print(\"vanitha\")\n",
    "print(\"vanitha\")\n",
    "print(\"vanitha\")\n",
    "print(\"vanitha\")\n",
    "print(\"vanitha\")"
   ]
  },
  {
   "cell_type": "code",
   "execution_count": 2,
   "metadata": {},
   "outputs": [
    {
     "name": "stdout",
     "output_type": "stream",
     "text": [
      "vanitha\n",
      "vanitha\n",
      "vanitha\n",
      "vanitha\n",
      "vanitha\n",
      "vanitha\n",
      "vanitha\n",
      "vanitha\n",
      "vanitha\n",
      "vanitha\n"
     ]
    }
   ],
   "source": [
    "for i in range(1,11):\n",
    "    print(\"vanitha\")"
   ]
  },
  {
   "cell_type": "code",
   "execution_count": null,
   "metadata": {},
   "outputs": [],
   "source": [
    "syntax of for loop:\n",
    "    \n",
    "    for value in range(start,end,stepcount(or)increment/decrement):\n",
    "        statements"
   ]
  },
  {
   "cell_type": "code",
   "execution_count": null,
   "metadata": {
    "collapsed": true
   },
   "outputs": [],
   "source": [
    "for loop:- \n",
    "    A for loop is used for iterating over a sequence(i.e string,\n",
    "    list,tuple,dictionary,set) with the for loop we can execute a set of\n",
    "    statements"
   ]
  },
  {
   "cell_type": "code",
   "execution_count": null,
   "metadata": {},
   "outputs": [],
   "source": [
    "range():\n",
    "    The range() function is used to generate the sequence of the numbers"
   ]
  },
  {
   "cell_type": "code",
   "execution_count": 10,
   "metadata": {},
   "outputs": [
    {
     "name": "stdout",
     "output_type": "stream",
     "text": [
      "1 2 3 4 5 6 7 8 9 10 "
     ]
    }
   ],
   "source": [
    "# printing natural numbers from 1 to 10\n",
    "for i in range(1,11,1): # i=1 i=2 .......10 11\n",
    "    print(i,end=' ')   # 1  2 ....10"
   ]
  },
  {
   "cell_type": "code",
   "execution_count": 12,
   "metadata": {},
   "outputs": [
    {
     "name": "stdout",
     "output_type": "stream",
     "text": [
      "1 4 7 10 "
     ]
    }
   ],
   "source": [
    "for i in range(1,11,3): # i=1 i=2 .......10 11\n",
    "    print(i,end=' ')   # 1  2 ....10"
   ]
  },
  {
   "cell_type": "code",
   "execution_count": 33,
   "metadata": {},
   "outputs": [
    {
     "name": "stdout",
     "output_type": "stream",
     "text": [
      "0 1 2 3 4 5 6 7 8 9 10 "
     ]
    }
   ],
   "source": [
    "for i in range(11):\n",
    "    print(i,end=' ')"
   ]
  },
  {
   "cell_type": "code",
   "execution_count": 13,
   "metadata": {},
   "outputs": [
    {
     "name": "stdout",
     "output_type": "stream",
     "text": [
      "10 9 8 7 6 5 4 3 2 1 "
     ]
    }
   ],
   "source": [
    "# 10 to 1 numbers printing\n",
    "# 10 9 8 7 6 5 4 3 2 1\n",
    "for i in range(10,0,-1): i=10 i=9..................1\n",
    "    print(i,end=' ')   10 9................1"
   ]
  },
  {
   "cell_type": "code",
   "execution_count": 15,
   "metadata": {},
   "outputs": [
    {
     "name": "stdout",
     "output_type": "stream",
     "text": [
      "10 7 4 1 "
     ]
    }
   ],
   "source": [
    "# 10 8 6 4 2\n",
    "for i in range(10,0,-3):\n",
    "    print(i,end=' ')"
   ]
  },
  {
   "cell_type": "code",
   "execution_count": 16,
   "metadata": {},
   "outputs": [
    {
     "name": "stdout",
     "output_type": "stream",
     "text": [
      "Enter any number: 50\n",
      "1 2 3 4 5 6 7 8 9 10 11 12 13 14 15 16 17 18 19 20 21 22 23 24 25 26 27 28 29 30 31 32 33 34 35 36 37 38 39 40 41 42 43 44 45 46 47 48 49 50 "
     ]
    }
   ],
   "source": [
    "n=int(input('Enter any number: '))\n",
    "for i in range(1,n+1):\n",
    "    print(i,end=' ')"
   ]
  },
  {
   "cell_type": "code",
   "execution_count": 18,
   "metadata": {},
   "outputs": [
    {
     "name": "stdout",
     "output_type": "stream",
     "text": [
      "Enter starting range: 50\n",
      "Enter ending range: 100\n",
      "50 51 52 53 54 55 56 57 58 59 60 61 62 63 64 65 66 67 68 69 70 71 72 73 74 75 76 77 78 79 80 81 82 83 84 85 86 87 88 89 90 91 92 93 94 95 96 97 98 99 100 "
     ]
    }
   ],
   "source": [
    "m=int(input('Enter starting range: '))\n",
    "n=int(input('Enter ending range: '))\n",
    "for i in range(m,n+1):\n",
    "    print(i,end=' ')"
   ]
  },
  {
   "cell_type": "code",
   "execution_count": 21,
   "metadata": {},
   "outputs": [
    {
     "name": "stdout",
     "output_type": "stream",
     "text": [
      "55\n"
     ]
    }
   ],
   "source": [
    "# 1 to 10 numbers total\n",
    "# 55\n",
    "total=0\n",
    "for i in range(1,11):   # i=1  i=2   i=3   i=4 ..............10\n",
    "    total=total+i     # 0+1=1  1+2=3  3+3=6   6+4=10 ..........55\n",
    "print(total)\n",
    "    "
   ]
  },
  {
   "cell_type": "code",
   "execution_count": 22,
   "metadata": {},
   "outputs": [
    {
     "name": "stdout",
     "output_type": "stream",
     "text": [
      "1\n",
      "100\n",
      "5050\n"
     ]
    }
   ],
   "source": [
    "s1=int(input())\n",
    "s2=int(input())\n",
    "s=0\n",
    "for i in range(s1,s2+1):\n",
    "    s=s+i\n",
    "print(s)"
   ]
  },
  {
   "cell_type": "code",
   "execution_count": null,
   "metadata": {},
   "outputs": [],
   "source": [
    "# printing multiplication table\n",
    "# 6\n",
    "# 6 x 1 = 6\n",
    "  6 x 2 = 12\n",
    "    .\n",
    "    .\n",
    "    .\n",
    "  6 x 10 = 60"
   ]
  },
  {
   "cell_type": "code",
   "execution_count": 24,
   "metadata": {},
   "outputs": [
    {
     "name": "stdout",
     "output_type": "stream",
     "text": [
      "Enter any number: 5\n",
      "5 x 1 = 5\n",
      "5 x 2 = 10\n",
      "5 x 3 = 15\n",
      "5 x 4 = 20\n",
      "5 x 5 = 25\n",
      "5 x 6 = 30\n",
      "5 x 7 = 35\n",
      "5 x 8 = 40\n",
      "5 x 9 = 45\n",
      "5 x 10 = 50\n",
      "5 x 11 = 55\n",
      "5 x 12 = 60\n",
      "5 x 13 = 65\n",
      "5 x 14 = 70\n",
      "5 x 15 = 75\n",
      "5 x 16 = 80\n",
      "5 x 17 = 85\n",
      "5 x 18 = 90\n",
      "5 x 19 = 95\n"
     ]
    }
   ],
   "source": [
    "n=int(input('Enter any number: '))\n",
    "for i in range(1,21):\n",
    "    print(n,'x',i,'=',n*i)"
   ]
  },
  {
   "cell_type": "code",
   "execution_count": null,
   "metadata": {},
   "outputs": [],
   "source": [
    "# factors\n",
    "# 10\n",
    "# 1 2 5 10"
   ]
  },
  {
   "cell_type": "code",
   "execution_count": 25,
   "metadata": {},
   "outputs": [
    {
     "name": "stdout",
     "output_type": "stream",
     "text": [
      "Enter any number: 10\n",
      "1 2 5 10 "
     ]
    }
   ],
   "source": [
    "n=int(input('Enter any number: ')) # 10\n",
    "for i in range(1,n+1):  # i=1 i=2 i=3 I=4 5 6 7 8 9 10 11\n",
    "    if(n%i==0): # 10%10==0(T)  \n",
    "        print(i,end=' ') # i=1  2  5 10"
   ]
  },
  {
   "cell_type": "code",
   "execution_count": null,
   "metadata": {},
   "outputs": [],
   "source": [
    "# prime number\n",
    "# 2 : 1,2= 2\n",
    "# 5 : 1,5 = 2\n",
    "# 7 : 1,7 = 2\n",
    "# 11 : 1,11= 2\n",
    "factors count= 2"
   ]
  },
  {
   "cell_type": "code",
   "execution_count": 29,
   "metadata": {},
   "outputs": [
    {
     "name": "stdout",
     "output_type": "stream",
     "text": [
      "3\n",
      "factors count= 2\n",
      "Prime Number\n"
     ]
    }
   ],
   "source": [
    "n=int(input())   # 3\n",
    "f_count=0  # 0\n",
    "for i in range(1,n+1):  #(1,3)   i=2  i=3\n",
    "    if(n%i==0):  # 3%3==0(T)\n",
    "        f_count=f_count+1  0+1=1  1+1=2\n",
    "print(\"factors count=\",f_count)  # 2\n",
    "if(f_count==2):  # 2==2(T)\n",
    "    print(\"Prime Number\")\n",
    "else:\n",
    "    print(\"Not a Prime Number\")"
   ]
  },
  {
   "cell_type": "code",
   "execution_count": 34,
   "metadata": {
    "scrolled": true
   },
   "outputs": [
    {
     "ename": "SyntaxError",
     "evalue": "invalid syntax (<ipython-input-34-b20414da5155>, line 11)",
     "output_type": "error",
     "traceback": [
      "\u001b[1;36m  File \u001b[1;32m\"<ipython-input-34-b20414da5155>\"\u001b[1;36m, line \u001b[1;32m11\u001b[0m\n\u001b[1;33m    if(f_sum==v)\u001b[0m\n\u001b[1;37m                ^\u001b[0m\n\u001b[1;31mSyntaxError\u001b[0m\u001b[1;31m:\u001b[0m invalid syntax\n"
     ]
    }
   ],
   "source": [
    "# Perfect Number\n",
    "# given number= sum of factors except itself factor\n",
    "# 6\n",
    "# 1 2 3 6 = 1 2 3 =1+2+3=6\n",
    "v=int(input())\n",
    "f_sum=0\n",
    "for i in range(1,v):\n",
    "    if(v%i==0):\n",
    "        f_sum=f_sum+i\n",
    "print(\"Factors sum=\",f_sum)\n",
    "if(f_sum==v):\n",
    "    print(\"Perfect Number\")\n",
    "else:\n",
    "    print(\"Not Perfect Number\")"
   ]
  },
  {
   "cell_type": "markdown",
   "metadata": {},
   "source": [
    "# while loop\n",
    "\n",
    "While loop is used to execute a block of statements repeatedly until\n",
    "a given contion is satisfied.And when the condition becomes false,the line\n",
    "immediately after the loop in program is executed."
   ]
  },
  {
   "cell_type": "code",
   "execution_count": null,
   "metadata": {},
   "outputs": [],
   "source": [
    "syntax of while loop\n",
    "\n",
    "initialization\n",
    "while(condition):\n",
    "    statements\n",
    "    updation(increment/decrement)"
   ]
  },
  {
   "cell_type": "code",
   "execution_count": 38,
   "metadata": {},
   "outputs": [
    {
     "name": "stdout",
     "output_type": "stream",
     "text": [
      "5 7 9 11 "
     ]
    }
   ],
   "source": [
    "#printing 1 to 10 numbers using while loop\n",
    "i=5\n",
    "while(i<=11): \n",
    "    print(i,end=' ')\n",
    "    i=i+2"
   ]
  },
  {
   "cell_type": "code",
   "execution_count": 44,
   "metadata": {},
   "outputs": [
    {
     "name": "stdout",
     "output_type": "stream",
     "text": [
      "10 8 6 4 2 "
     ]
    }
   ],
   "source": [
    "# printing 10 to 1 numbers using while loop\n",
    "i=10\n",
    "while(i>=1):\n",
    "    print(i,end=' ')\n",
    "    i=i-2"
   ]
  },
  {
   "cell_type": "code",
   "execution_count": 43,
   "metadata": {},
   "outputs": [
    {
     "name": "stdout",
     "output_type": "stream",
     "text": [
      "50\n",
      "1 2 3 4 5 6 7 8 9 10 11 12 13 14 15 16 17 18 19 20 21 22 23 24 25 26 27 28 29 30 31 32 33 34 35 36 37 38 39 40 41 42 43 44 45 46 47 48 49 50 "
     ]
    }
   ],
   "source": [
    "n=int(input())\n",
    "i=1\n",
    "while(i<=n):\n",
    "    print(i,end=' ')\n",
    "    i=i+1"
   ]
  },
  {
   "cell_type": "code",
   "execution_count": null,
   "metadata": {},
   "outputs": [],
   "source": []
  }
 ],
 "metadata": {
  "kernelspec": {
   "display_name": "Python 3",
   "language": "python",
   "name": "python3"
  },
  "language_info": {
   "codemirror_mode": {
    "name": "ipython",
    "version": 3
   },
   "file_extension": ".py",
   "mimetype": "text/x-python",
   "name": "python",
   "nbconvert_exporter": "python",
   "pygments_lexer": "ipython3",
   "version": "3.7.3"
  }
 },
 "nbformat": 4,
 "nbformat_minor": 2
}
