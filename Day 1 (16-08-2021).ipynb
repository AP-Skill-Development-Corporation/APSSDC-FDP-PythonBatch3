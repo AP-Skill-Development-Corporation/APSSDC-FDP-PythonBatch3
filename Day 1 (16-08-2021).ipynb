{
 "cells": [
  {
   "cell_type": "code",
   "execution_count": null,
   "metadata": {},
   "outputs": [],
   "source": [
    "# day objectives:\n",
    "- installtion\n",
    "- python introduction\n",
    "- jupyter notebook\n",
    "- markdown format"
   ]
  },
  {
   "cell_type": "markdown",
   "metadata": {},
   "source": [
    "# installtion:\n",
    "- anaconda software: https://www.anaconda.com/products/individual\n",
    "- installtion- windows: https://docs.anaconda.com/anaconda/install/windows/\n",
    "- installtion- macos: https://docs.anaconda.com/anaconda/install/mac-os/\n",
    "- installtion- linux: https://docs.anaconda.com/anaconda/install/linux/"
   ]
  },
  {
   "cell_type": "markdown",
   "metadata": {},
   "source": [
    "# python introduction:\n",
    "### what is python?\n",
    "- python is a simple,general purpose,high level,interpreted (line by line),object oriented programming language.\n",
    "- python is developed by Guido Van Rosuum\n",
    "- Guido Van Rossum started implementing python in 1989,and relesed in 1991"
   ]
  },
  {
   "cell_type": "code",
   "execution_count": 2,
   "metadata": {},
   "outputs": [
    {
     "name": "stdout",
     "output_type": "stream",
     "text": [
      "hii\n",
      "hloo\n"
     ]
    },
    {
     "ename": "NameError",
     "evalue": "name 'hgjkjhghjklj' is not defined",
     "output_type": "error",
     "traceback": [
      "\u001b[1;31m---------------------------------------------------------------------------\u001b[0m",
      "\u001b[1;31mNameError\u001b[0m                                 Traceback (most recent call last)",
      "\u001b[1;32m<ipython-input-2-fad2f042ed1d>\u001b[0m in \u001b[0;36m<module>\u001b[1;34m\u001b[0m\n\u001b[0;32m      1\u001b[0m \u001b[0mprint\u001b[0m\u001b[1;33m(\u001b[0m\u001b[1;34m\"hii\"\u001b[0m\u001b[1;33m)\u001b[0m\u001b[1;33m\u001b[0m\u001b[1;33m\u001b[0m\u001b[0m\n\u001b[0;32m      2\u001b[0m \u001b[0mprint\u001b[0m\u001b[1;33m(\u001b[0m\u001b[1;34m\"hloo\"\u001b[0m\u001b[1;33m)\u001b[0m\u001b[1;33m\u001b[0m\u001b[1;33m\u001b[0m\u001b[0m\n\u001b[1;32m----> 3\u001b[1;33m \u001b[0mprint\u001b[0m\u001b[1;33m(\u001b[0m\u001b[0mhgjkjhghjklj\u001b[0m\u001b[1;33m)\u001b[0m\u001b[1;33m\u001b[0m\u001b[1;33m\u001b[0m\u001b[0m\n\u001b[0m\u001b[0;32m      4\u001b[0m \u001b[0mprint\u001b[0m\u001b[1;33m(\u001b[0m\u001b[0mgfhgjkhghfh\u001b[0m\u001b[1;33m)\u001b[0m\u001b[1;33m\u001b[0m\u001b[1;33m\u001b[0m\u001b[0m\n\u001b[0;32m      5\u001b[0m \u001b[0mprint\u001b[0m\u001b[1;33m(\u001b[0m\u001b[1;34m\"how r u\"\u001b[0m\u001b[1;33m)\u001b[0m\u001b[1;33m\u001b[0m\u001b[1;33m\u001b[0m\u001b[0m\n",
      "\u001b[1;31mNameError\u001b[0m: name 'hgjkjhghjklj' is not defined"
     ]
    }
   ],
   "source": [
    "print(\"hii\")\n",
    "print(\"hloo\")\n",
    "print(hgjkjhghjklj)\n",
    "print(gfhgjkhghfh)\n",
    "print(\"how r u\")"
   ]
  },
  {
   "cell_type": "markdown",
   "metadata": {},
   "source": [
    "# Why Python Named as Python?\n",
    "- The name came from BBC'S comedy television show \"Monty Python's Flying Circus\" as he was a big fan of the tv show."
   ]
  },
  {
   "cell_type": "markdown",
   "metadata": {},
   "source": [
    "## Python is a Compiled or Interpreted?\n",
    "- the most part python is a interpreted and not a compiled one,although compilation is a step."
   ]
  },
  {
   "cell_type": "markdown",
   "metadata": {},
   "source": [
    "## pep8\n",
    "- python enhancement proposal.it is a set of rules that specify how to format python code for maximum readability"
   ]
  },
  {
   "cell_type": "markdown",
   "metadata": {},
   "source": [
    "## Python features:\n",
    "- 1) Easy to learn and use\n",
    "- 2) Expressive langauge-->more understandable and readable\n",
    "- 3) interpreted language--->line by line at a time--->debugging easy\n",
    "- 4) cross-platform --->windows,linux,macos,unix---->portable langauge\n",
    "- 5) free and opensource-->free and available to the public\n",
    "- 6) object- oriented------>classes,objects,inehritance,constructors\n",
    "- 7) extensible----->it implies that other languges like c/c++\n",
    "- 8) large standard libraries----->rich set of modules and functions and libraries\n",
    "- 9) GUI Programming support\n",
    "- 10)Integrated---->easily integrate with other languages like c,c++,java"
   ]
  },
  {
   "cell_type": "markdown",
   "metadata": {},
   "source": [
    "## Applications of python?\n",
    "- webapplications (google,youtube,instagram,dropbox..etc)\n",
    "- Game development\n",
    "- GUI based applications\n",
    "- Datascience\n",
    "- Machine Learning\n",
    "- Multimedia\n",
    "- Scienticfic Computing\n",
    "- Artificial Intelligence\n",
    "- software developemnt\n",
    "- Desktop Applications\n",
    "- Applications for images"
   ]
  },
  {
   "cell_type": "code",
   "execution_count": null,
   "metadata": {},
   "outputs": [],
   "source": [
    "print(\"hello\")"
   ]
  },
  {
   "cell_type": "code",
   "execution_count": null,
   "metadata": {},
   "outputs": [],
   "source": [
    "# in python idle\n",
    "- 2 modes\n",
    "--->1) shell   ---->used for only one code ---->enter\n",
    "---->2) script  ---->multilines of code------>runmodule/F5"
   ]
  },
  {
   "cell_type": "code",
   "execution_count": 6,
   "metadata": {},
   "outputs": [
    {
     "name": "stdout",
     "output_type": "stream",
     "text": [
      "hiii\n"
     ]
    }
   ],
   "source": [
    "print(\"hiii\")"
   ]
  },
  {
   "cell_type": "code",
   "execution_count": 4,
   "metadata": {},
   "outputs": [
    {
     "name": "stdout",
     "output_type": "stream",
     "text": [
      "how r u\n"
     ]
    }
   ],
   "source": [
    "print(\"how r u\")"
   ]
  },
  {
   "cell_type": "code",
   "execution_count": null,
   "metadata": {},
   "outputs": [],
   "source": [
    "## python versions\n",
    "- python 1.0 - 1994\n",
    "- python 2.0 - 2000\n",
    "- python 3.0 - 2008\n",
    "- python 3.9.6 - 2021 (latest version)"
   ]
  },
  {
   "cell_type": "code",
   "execution_count": null,
   "metadata": {},
   "outputs": [],
   "source": [
    "b-below\n",
    "a-above\n",
    "m- markdown\n",
    "shift+enter----->to run the program"
   ]
  },
  {
   "cell_type": "code",
   "execution_count": null,
   "metadata": {},
   "outputs": [],
   "source": [
    "# jupyter having 2 modes\n",
    "1)markdown----->theory--->empty\n",
    "2)code mode---->programs---->default--->In[]"
   ]
  },
  {
   "cell_type": "markdown",
   "metadata": {},
   "source": [
    "# heading1\n",
    "## heading2\n",
    "### haeding3\n",
    "#### heading4\n",
    "##### heading 5\n",
    "###### heading6\n",
    "######## heading7"
   ]
  },
  {
   "cell_type": "markdown",
   "metadata": {},
   "source": [
    "- python\n",
    "- **bold**\n",
    "- *italic*\n",
    "- ***bolditalic***"
   ]
  },
  {
   "cell_type": "markdown",
   "metadata": {},
   "source": [
    "- Unordered list\n",
    "    - sublist1\n",
    "    - sublist2\n",
    "        - sub sublist1    "
   ]
  },
  {
   "cell_type": "markdown",
   "metadata": {},
   "source": [
    "- 1.orderedlist1\n",
    "    - 1.sublist1\n",
    "    - 2.sublist2"
   ]
  }
 ],
 "metadata": {
  "kernelspec": {
   "display_name": "Python 3",
   "language": "python",
   "name": "python3"
  },
  "language_info": {
   "codemirror_mode": {
    "name": "ipython",
    "version": 3
   },
   "file_extension": ".py",
   "mimetype": "text/x-python",
   "name": "python",
   "nbconvert_exporter": "python",
   "pygments_lexer": "ipython3",
   "version": "3.7.3"
  }
 },
 "nbformat": 4,
 "nbformat_minor": 2
}
