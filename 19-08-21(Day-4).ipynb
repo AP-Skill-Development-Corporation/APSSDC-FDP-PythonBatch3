{
 "cells": [
  {
   "cell_type": "markdown",
   "metadata": {},
   "source": [
    "### Day Objectives:\n",
    "    - Conditional statements in python:\n",
    "        - it decides the direction of the flow of program execution\n",
    "        - conditional statements available in python are:\n",
    "            - if statement\n",
    "                 - here we will check single condition\n",
    "                 - it is used to decide whether a certain statement or block of statements executed or not\n",
    "                 \n",
    "                    -  syntax:\n",
    "                       -------\n",
    "                        - if (condition):\n",
    "                            # statements to execute if condition is true \n",
    "            - if..else statement\n",
    "            \n",
    "                    - if condition is true it will execute a block of statements\n",
    "                    - if condition is false it will move else block.\n",
    "            - if..eif statement\n",
    "            \n",
    "                        - if you have more than two conditoins are existed in that we are using elifconditional statement\n",
    "                    - the statements are executed from to to down \n",
    "                        - syntax:\n",
    "                        \n",
    "                            - if (condition):\n",
    "                                    # statements\n",
    "                            -  elif(condition):\n",
    "                                    # statements\n",
    "                             -  elif(condition):\n",
    "                             \n",
    "                                     # statements\n",
    "                             - else:\n",
    "                                 # statements\n",
    "            - nestedif statement:\n",
    "            \n",
    "                    - if statement is existed inside another if statement\n",
    "                    - syntax:\n",
    "                           - if (condition):\n",
    "                               if(condition):\n",
    "                                   ### statements\n",
    "                                else:\n",
    "                                   ## statements\n",
    "                              else:\n",
    "                                  ## statements "
   ]
  },
  {
   "cell_type": "code",
   "execution_count": 4,
   "metadata": {
    "scrolled": false
   },
   "outputs": [
    {
     "name": "stdout",
     "output_type": "stream",
     "text": [
      "enter your number12\n",
      "Positive number\n"
     ]
    }
   ],
   "source": [
    "### if \n",
    "### whether the given numbers is positive or not\n",
    "\n",
    "n=int(input(\"enter your number\"))\n",
    "if (n>0):\n",
    "    print(\"Positive number\")"
   ]
  },
  {
   "cell_type": "code",
   "execution_count": 6,
   "metadata": {},
   "outputs": [
    {
     "name": "stdout",
     "output_type": "stream",
     "text": [
      "Enter your number5\n"
     ]
    }
   ],
   "source": [
    "### whether the given number is even number or not?\n",
    "\n",
    "n=int(input(\"Enter your number\")) #4\n",
    "if (n%2==0): # 4%2==0\n",
    "    print(\"Even number\")"
   ]
  },
  {
   "cell_type": "code",
   "execution_count": 8,
   "metadata": {},
   "outputs": [
    {
     "name": "stdout",
     "output_type": "stream",
     "text": [
      "Enter your age:20\n",
      "Eligible for vote\n"
     ]
    }
   ],
   "source": [
    "###  if else...\n",
    "### whether to check given person is eligibile for vote or not?\n",
    "\n",
    "age=int(input(\"Enter your age:\"))\n",
    "\n",
    "if(age>=18):\n",
    "    print(\"Eligible for vote\")\n",
    "else:\n",
    "    print(\"Not eligible for vote\")"
   ]
  },
  {
   "cell_type": "code",
   "execution_count": 9,
   "metadata": {},
   "outputs": [
    {
     "name": "stdout",
     "output_type": "stream",
     "text": [
      "Enter your first number7\n",
      "Enter your second number10\n",
      "10 is a greater number\n"
     ]
    }
   ],
   "source": [
    "## to check greatest number\n",
    "\n",
    "a=int(input(\"Enter your first number\"))\n",
    "b=int(input(\"Enter your second number\"))\n",
    " \n",
    "if (a>b):\n",
    "    print(a,\"is a greater number\")\n",
    "else:\n",
    "    print(b,\"is a greater number\")"
   ]
  },
  {
   "cell_type": "code",
   "execution_count": 11,
   "metadata": {},
   "outputs": [
    {
     "name": "stdout",
     "output_type": "stream",
     "text": [
      "Enter your number here12\n",
      "12 is divisible by 3\n"
     ]
    }
   ],
   "source": [
    "## whether the given number is divisible by 3 or not?\n",
    "n=int(input(\"Enter your number here\"))\n",
    "if (n%3==0):\n",
    "    print(n,\"is divisible by 3\")\n",
    "else:\n",
    "    print(n,\"is not divisible by 3\")"
   ]
  },
  {
   "cell_type": "code",
   "execution_count": null,
   "metadata": {},
   "outputs": [],
   "source": [
    "# Task:\n",
    "    # to chec whether the number is divisible by both 3 and 5"
   ]
  },
  {
   "cell_type": "code",
   "execution_count": 13,
   "metadata": {},
   "outputs": [
    {
     "name": "stdout",
     "output_type": "stream",
     "text": [
      "Enter the number30\n",
      "30 is divisible by 3 and 5\n"
     ]
    }
   ],
   "source": [
    "n=int(input(\"Enter the number\"))\n",
    "if(n%3==0 and n%5==0):\n",
    "    print(n,\"is divisible by 3 and 5\")\n",
    "else:\n",
    "    print(n,\"is not divisible by 3 and 5\")"
   ]
  },
  {
   "cell_type": "code",
   "execution_count": 16,
   "metadata": {
    "collapsed": true
   },
   "outputs": [
    {
     "name": "stdout",
     "output_type": "stream",
     "text": [
      "Enter your first number100\n",
      "Enter your second number8\n",
      "Enter your third number90\n",
      "100 is greather than b and c\n"
     ]
    }
   ],
   "source": [
    "## to check greatest number in 3 numbers\n",
    "\n",
    "a=int(input(\"Enter your first number\"))\n",
    "\n",
    "b=int(input(\"Enter your second number\"))\n",
    "\n",
    "c=int(input(\"Enter your third number\"))\n",
    "\n",
    "if(a>b and a>c):\n",
    "    print(a,\"is greather than b and c\")\n",
    "elif(b>c):\n",
    "    print(b,\"is greatest number\")\n",
    "else:\n",
    "    print(c,\"is greatest number\")"
   ]
  },
  {
   "cell_type": "code",
   "execution_count": null,
   "metadata": {},
   "outputs": [],
   "source": [
    "### grading system\n",
    "    ## 80-100--->A Grade\n",
    "    ## 60-79---> B Grade\n",
    "    ## 40-59--> C Grade\n",
    "    ### below 39 ->FAIL\n",
    "    #### Invalid input\n",
    "    "
   ]
  },
  {
   "cell_type": "code",
   "execution_count": 20,
   "metadata": {},
   "outputs": [
    {
     "name": "stdout",
     "output_type": "stream",
     "text": [
      "Enter your marks here67\n",
      "B Grade\n"
     ]
    }
   ],
   "source": [
    "marks=int(input(\"Enter your marks here\"))\n",
    "if(marks>=80 and marks<=100):\n",
    "    print(\"A Grade\")\n",
    "elif(marks>=60 and marks<=79):\n",
    "    print(\"B Grade\")\n",
    "elif(marks>=40 and marks<=59):\n",
    "    print(\"C Grade \")\n",
    "elif(marks<=39):\n",
    "    print(\"FAIL\")\n",
    "else:\n",
    "    print(\"invalid input\")"
   ]
  },
  {
   "cell_type": "code",
   "execution_count": 23,
   "metadata": {},
   "outputs": [
    {
     "name": "stdout",
     "output_type": "stream",
     "text": [
      "enter your first number8\n",
      "enter your second number5\n",
      "1.add 2.sub 3.mul 4.div 5.mod 6.floor 7.power\n",
      "Enter your choice 3\n",
      "8 and 5 multip is: 40\n"
     ]
    }
   ],
   "source": [
    "### arthimatic operations by using elif\n",
    "\n",
    "a=int(input(\"enter your first number\"))\n",
    "b=int(input(\"enter your second number\"))\n",
    "print(\"1.add 2.sub 3.mul 4.div 5.mod 6.floor 7.power\")\n",
    "choice=int(input(\"Enter your choice \"))\n",
    "if(choice==1):\n",
    "    print(a,\"and\",b,\"addition is:\",a+b)\n",
    "elif(choice==2):\n",
    "    print(a, \"and\",b,\"sub  is:\",a-b)\n",
    "elif(choice==3):\n",
    "    print(a, \"and\",b,\"multip is:\",a*b)\n",
    "elif(choice==4):\n",
    "    print(a, \"and\",b,\"div is:\",a/b)\n",
    "elif(choice==5):\n",
    "    print(a, \"and\",b,\"modulo is:\",a%b)\n",
    "elif(choice==6):\n",
    "    print(a, \"and\",b,\"floor is:\",a//b)\n",
    "elif(choice==7):\n",
    "    print(a,\"and\",b,\"power is:\",a**b)\n",
    "else:\n",
    "    print(\"Enter your correct choice\")\n"
   ]
  },
  {
   "cell_type": "code",
   "execution_count": null,
   "metadata": {},
   "outputs": [],
   "source": [
    "## task:\n",
    "    ## i/p:5 \n",
    "        ## friday\n",
    "        \n",
    "##0-SUNDAY\n",
    "##1-MONDAY\n",
    "##2-TUESDAY\n",
    "##3-WED\n",
    "##4-TURS\n",
    "##5-FRI\n",
    "## 6-SAT"
   ]
  },
  {
   "cell_type": "code",
   "execution_count": null,
   "metadata": {},
   "outputs": [],
   "source": [
    "#### i/p:6\n",
    "    #### print(even number)\n",
    "    ## >10 ---->sqaure >36\n",
    "    ## <10---->cube---->256\n",
    "    \n",
    "    ## 5\n",
    "    ## odd number"
   ]
  },
  {
   "cell_type": "code",
   "execution_count": 27,
   "metadata": {},
   "outputs": [
    {
     "name": "stdout",
     "output_type": "stream",
     "text": [
      "enter your number5\n",
      "odd number\n"
     ]
    }
   ],
   "source": [
    "n=int(input(\"enter your number\"))\n",
    "if(n%2==0):\n",
    "    print(\"even number\")\n",
    "    if(n>10):\n",
    "        print(n**2)\n",
    "    else:\n",
    "        print(n**3)\n",
    "else:\n",
    "    print(\"odd number\")"
   ]
  },
  {
   "cell_type": "code",
   "execution_count": null,
   "metadata": {},
   "outputs": [],
   "source": [
    "### i/p userid--->100 to 200  ->165\n",
    "### fixed password--->(apssdc@123)\n",
    "### i/p : enter your password\n",
    "        -> user pass==fixd password\n",
    "        -> welcome\n",
    "### case 2: invalid user id\n"
   ]
  },
  {
   "cell_type": "code",
   "execution_count": 30,
   "metadata": {},
   "outputs": [
    {
     "name": "stdout",
     "output_type": "stream",
     "text": [
      "enter your userid6\n",
      "invalid id\n"
     ]
    }
   ],
   "source": [
    "uid=int(input(\"enter your userid\"))\n",
    "if(uid>=100 and uid<=200):\n",
    "    pwd=input(\"enter password here\")\n",
    "    if(pwd=='apssdc@123'):\n",
    "        print(\"welcome\")\n",
    "    else:\n",
    "        print(\"invalid\")\n",
    "else:\n",
    "    print(\"invalid id\")\n",
    "    \n"
   ]
  },
  {
   "cell_type": "code",
   "execution_count": null,
   "metadata": {},
   "outputs": [],
   "source": []
  }
 ],
 "metadata": {
  "kernelspec": {
   "display_name": "Python 3",
   "language": "python",
   "name": "python3"
  },
  "language_info": {
   "codemirror_mode": {
    "name": "ipython",
    "version": 3
   },
   "file_extension": ".py",
   "mimetype": "text/x-python",
   "name": "python",
   "nbconvert_exporter": "python",
   "pygments_lexer": "ipython3",
   "version": "3.7.3"
  }
 },
 "nbformat": 4,
 "nbformat_minor": 2
}
